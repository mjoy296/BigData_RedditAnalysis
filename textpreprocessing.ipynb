{
 "cells": [
  {
   "cell_type": "code",
   "execution_count": 1,
   "metadata": {},
   "outputs": [],
   "source": [
    "import findspark\n",
    "findspark.init()"
   ]
  },
  {
   "cell_type": "code",
   "execution_count": 2,
   "metadata": {},
   "outputs": [
    {
     "data": {
      "text/html": [
       "\n",
       "        <div>\n",
       "            <p><b>SparkContext</b></p>\n",
       "\n",
       "            <p><a href=\"http://ip-172-31-67-105.ec2.internal:4040\">Spark UI</a></p>\n",
       "\n",
       "            <dl>\n",
       "              <dt>Version</dt>\n",
       "                <dd><code>v2.4.4</code></dd>\n",
       "              <dt>Master</dt>\n",
       "                <dd><code>yarn</code></dd>\n",
       "              <dt>AppName</dt>\n",
       "                <dd><code>pyspark-shell</code></dd>\n",
       "            </dl>\n",
       "        </div>\n",
       "        "
      ],
      "text/plain": [
       "<SparkContext master=yarn appName=pyspark-shell>"
      ]
     },
     "execution_count": 2,
     "metadata": {},
     "output_type": "execute_result"
    }
   ],
   "source": [
    "from pyspark import SparkContext\n",
    "sc = SparkContext()\n",
    "sc"
   ]
  },
  {
   "cell_type": "code",
   "execution_count": 3,
   "metadata": {},
   "outputs": [],
   "source": [
    "from pyspark.sql import SparkSession\n",
    "\n",
    "spark = SparkSession.builder.appName(\"final_text\").getOrCreate()"
   ]
  },
  {
   "cell_type": "code",
   "execution_count": 4,
   "metadata": {},
   "outputs": [],
   "source": [
    "data = spark.read.parquet(\"s3://ppol567lab2/datasample.parquet\")"
   ]
  },
  {
   "cell_type": "code",
   "execution_count": 6,
   "metadata": {},
   "outputs": [
    {
     "name": "stdout",
     "output_type": "stream",
     "text": [
      "root\n",
      " |-- author: string (nullable = true)\n",
      " |-- author_cakeday: boolean (nullable = true)\n",
      " |-- body: string (nullable = true)\n",
      " |-- author_patreon_flair: boolean (nullable = true)\n",
      " |-- can_gild: boolean (nullable = true)\n",
      " |-- controversiality: long (nullable = true)\n",
      " |-- collapsed: boolean (nullable = true)\n",
      " |-- score: long (nullable = true)\n",
      " |-- subreddit: string (nullable = true)\n",
      " |-- comment: integer (nullable = true)\n",
      " |-- post: integer (nullable = true)\n",
      " |-- moderator: integer (nullable = true)\n",
      " |-- admin: integer (nullable = true)\n",
      " |-- body_clean: string (nullable = true)\n",
      "\n",
      "+----------------+--------------+--------------------+--------------------+--------+----------------+---------+-----+------------------+-------+----+---------+-----+--------------------+\n",
      "|          author|author_cakeday|                body|author_patreon_flair|can_gild|controversiality|collapsed|score|         subreddit|comment|post|moderator|admin|          body_clean|\n",
      "+----------------+--------------+--------------------+--------------------+--------+----------------+---------+-----+------------------+-------+----+---------+-----+--------------------+\n",
      "|         DashHen|          null|But actually what...|               false|    true|               0|    false|    7|         Astroneer|      1|   0|        0|    0|but actually what...|\n",
      "|      rspython69|          null|i love the welsh,...|               false|    true|               0|    false|    1|          gonewild|      0|   1|        0|    0|i love the welsh ...|\n",
      "|     DirtyDan621|          null|No need for it an...|               false|    true|               0|    false|    1|            movies|      0|   1|        0|    0|no need for it an...|\n",
      "|       [deleted]|          null|You can like or d...|                null|   false|               0|    false|   -2|    ChapoTrapHouse|      1|   0|        0|    0|you can like or d...|\n",
      "|   thecrunchcrew|          null|The House passed ...|               false|    true|               0|    false|   25|BlackPeopleTwitter|      1|   0|        0|    0|the house passed ...|\n",
      "|flamingbabyjesus|          null|What is wrong wit...|               false|    true|               0|    false|    1|     CalgaryFlames|      1|   0|        0|    0|what is wrong wit...|\n",
      "|     NullSoldier|          null|You don’t need to...|               false|    true|               0|    false|   -1|    battlestations|      1|   0|        0|    0|you dont need to ...|\n",
      "|      mitrut0123|          null|The most demandin...|               false|    true|               0|    false|    2|              Roms|      0|   1|        0|    0|the most demandin...|\n",
      "|        antiname|          null|Yaz is definitely...|               false|    true|               0|    false|    2|         doctorwho|      1|   0|        0|    0|yaz is definitely...|\n",
      "|      roryaduffy|          null|Hats off to them!...|               false|    true|               0|    false|    3|           ireland|      1|   0|        0|    0|hats off to them ...|\n",
      "+----------------+--------------+--------------------+--------------------+--------+----------------+---------+-----+------------------+-------+----+---------+-----+--------------------+\n",
      "only showing top 10 rows\n",
      "\n"
     ]
    }
   ],
   "source": [
    "from pyspark.sql.functions import col, lower, regexp_replace\n",
    "\n",
    "#function to clean up text and remove url inforamtion\n",
    "def clean(text):\n",
    "    t = lower(text)\n",
    "    t = regexp_replace(t, \"^rt \", \"\")\n",
    "    t = regexp_replace(t, \"[^a-zA-Z0-9\\\\s]\", \"\")\n",
    "    #remove hyperlinks\n",
    "    t = regexp_replace(t, \"(https?\\://)\\S+\", \"\")\n",
    "    t = regexp_replace(t, 'https?://(www.)?\\w+\\.\\w+(/\\w+)*/?', \"\")\n",
    "    #remove mentions\n",
    "    t = regexp_replace(t, '@(\\w+)', \"\")\n",
    "    #remove numeric words\n",
    "    t = regexp_replace(t, '(\\\\d+)', \"\")\n",
    "    return t\n",
    "\n",
    "clean_text_df = data.select(\"*\", clean(col(\"body\")).alias(\"body_clean\"))\n",
    "\n",
    "clean_text_df.printSchema()\n",
    "clean_text_df.show(10)"
   ]
  },
  {
   "cell_type": "code",
   "execution_count": 7,
   "metadata": {},
   "outputs": [],
   "source": [
    "from pyspark.ml.feature import Tokenizer\n",
    "\n",
    "#tokenizing data\n",
    "tokenizer = Tokenizer(inputCol=\"body_clean\", outputCol=\"body_tokenized\")\n",
    "\n",
    "clean_text_df = tokenizer.transform(clean_text_df)"
   ]
  },
  {
   "cell_type": "code",
   "execution_count": 8,
   "metadata": {},
   "outputs": [
    {
     "name": "stdout",
     "output_type": "stream",
     "text": [
      "root\n",
      " |-- author: string (nullable = true)\n",
      " |-- author_cakeday: boolean (nullable = true)\n",
      " |-- body: string (nullable = true)\n",
      " |-- author_patreon_flair: boolean (nullable = true)\n",
      " |-- can_gild: boolean (nullable = true)\n",
      " |-- controversiality: long (nullable = true)\n",
      " |-- collapsed: boolean (nullable = true)\n",
      " |-- score: long (nullable = true)\n",
      " |-- subreddit: string (nullable = true)\n",
      " |-- comment: integer (nullable = true)\n",
      " |-- post: integer (nullable = true)\n",
      " |-- moderator: integer (nullable = true)\n",
      " |-- admin: integer (nullable = true)\n",
      " |-- body_clean: string (nullable = true)\n",
      " |-- body_tokenized: array (nullable = true)\n",
      " |    |-- element: string (containsNull = true)\n",
      " |-- body_no_stopw: array (nullable = true)\n",
      " |    |-- element: string (containsNull = true)\n",
      "\n",
      "+-------------+--------------+--------------------+--------------------+--------+----------------+---------+-----+------------------+-------+----+---------+-----+--------------------+--------------------+--------------------+\n",
      "|       author|author_cakeday|                body|author_patreon_flair|can_gild|controversiality|collapsed|score|         subreddit|comment|post|moderator|admin|          body_clean|      body_tokenized|       body_no_stopw|\n",
      "+-------------+--------------+--------------------+--------------------+--------+----------------+---------+-----+------------------+-------+----+---------+-----+--------------------+--------------------+--------------------+\n",
      "|      DashHen|          null|But actually what...|               false|    true|               0|    false|    7|         Astroneer|      1|   0|        0|    0|but actually what...|[but, actually, w...|[actually, whats,...|\n",
      "|   rspython69|          null|i love the welsh,...|               false|    true|               0|    false|    1|          gonewild|      0|   1|        0|    0|i love the welsh ...|[i, love, the, we...|  [love, welsh, yes]|\n",
      "|  DirtyDan621|          null|No need for it an...|               false|    true|               0|    false|    1|            movies|      0|   1|        0|    0|no need for it an...|[no, need, for, i...|[need, coming, gu...|\n",
      "|    [deleted]|          null|You can like or d...|                null|   false|               0|    false|   -2|    ChapoTrapHouse|      1|   0|        0|    0|you can like or d...|[you, can, like, ...|[like, dislike, a...|\n",
      "|thecrunchcrew|          null|The House passed ...|               false|    true|               0|    false|   25|BlackPeopleTwitter|      1|   0|        0|    0|the house passed ...|[the, house, pass...|[house, passed, b...|\n",
      "+-------------+--------------+--------------------+--------------------+--------+----------------+---------+-----+------------------+-------+----+---------+-----+--------------------+--------------------+--------------------+\n",
      "only showing top 5 rows\n",
      "\n"
     ]
    }
   ],
   "source": [
    "from pyspark.ml.feature import StopWordsRemover\n",
    "\n",
    "# Define a list of stop words or use default list\n",
    "remover = StopWordsRemover()\n",
    "stopwords = remover.getStopWords() \n",
    "\n",
    "remover.setInputCol(\"body_tokenized\")\n",
    "remover.setOutputCol(\"body_no_stopw\")\n",
    "\n",
    "# Transform existing dataframe with the StopWordsRemover\n",
    "clean_text_df = remover.transform(clean_text_df)\n",
    "\n",
    "# Display\n",
    "clean_text_df.printSchema()\n",
    "clean_text_df.show(5)"
   ]
  },
  {
   "cell_type": "code",
   "execution_count": 9,
   "metadata": {},
   "outputs": [],
   "source": [
    "from pyspark.ml.feature import HashingTF\n",
    "\n",
    "#hashing text data\n",
    "hashingTF = HashingTF(inputCol= 'body_no_stopw', outputCol=\"rawfeatures\")\n",
    "feature_data = hashingTF.transform(clean_text_df)"
   ]
  },
  {
   "cell_type": "code",
   "execution_count": 10,
   "metadata": {},
   "outputs": [],
   "source": [
    "from pyspark.ml.feature import IDF\n",
    "\n",
    "#creating idf \n",
    "idf = IDF(inputCol=\"rawfeatures\", outputCol=\"feats\")\n",
    "idfModel = idf.fit(feature_data)\n",
    "\n",
    "feature_data = idfModel.transform(feature_data)"
   ]
  },
  {
   "cell_type": "code",
   "execution_count": 11,
   "metadata": {},
   "outputs": [
    {
     "name": "stdout",
     "output_type": "stream",
     "text": [
      "+----------------+--------------+-------------------------------------+--------------------+--------+----------------+---------+-----+------------------+-------+----+---------+-----+--------------------+--------------------+--------------------+--------------------+--------------------+\n",
      "|          author|author_cakeday|                                 body|author_patreon_flair|can_gild|controversiality|collapsed|score|         subreddit|comment|post|moderator|admin|          body_clean|      body_tokenized|       body_no_stopw|         rawfeatures|               feats|\n",
      "+----------------+--------------+-------------------------------------+--------------------+--------+----------------+---------+-----+------------------+-------+----+---------+-----+--------------------+--------------------+--------------------+--------------------+--------------------+\n",
      "|         DashHen|          null|                 But actually what...|               false|    true|               0|    false|    7|         Astroneer|      1|   0|        0|    0|but actually what...|[but, actually, w...|[actually, whats,...|(262144,[132975,1...|(262144,[132975,1...|\n",
      "|      rspython69|          null|                 i love the welsh,...|               false|    true|               0|    false|    1|          gonewild|      0|   1|        0|    0|i love the welsh ...|[i, love, the, we...|  [love, welsh, yes]|(262144,[42199,54...|(262144,[42199,54...|\n",
      "|     DirtyDan621|          null|                 No need for it an...|               false|    true|               0|    false|    1|            movies|      0|   1|        0|    0|no need for it an...|[no, need, for, i...|[need, coming, gu...|(262144,[31403,73...|(262144,[31403,73...|\n",
      "|       [deleted]|          null|                 You can like or d...|                null|   false|               0|    false|   -2|    ChapoTrapHouse|      1|   0|        0|    0|you can like or d...|[you, can, like, ...|[like, dislike, a...|(262144,[5232,768...|(262144,[5232,768...|\n",
      "|   thecrunchcrew|          null|                 The House passed ...|               false|    true|               0|    false|   25|BlackPeopleTwitter|      1|   0|        0|    0|the house passed ...|[the, house, pass...|[house, passed, b...|(262144,[5232,967...|(262144,[5232,967...|\n",
      "|flamingbabyjesus|          null|                 What is wrong wit...|               false|    true|               0|    false|    1|     CalgaryFlames|      1|   0|        0|    0|what is wrong wit...|[what, is, wrong,...|    [wrong, rittich]|(262144,[107396,2...|(262144,[107396,2...|\n",
      "|     NullSoldier|          null|                 You don’t need to...|               false|    true|               0|    false|   -1|    battlestations|      1|   0|        0|    0|you dont need to ...|[you, dont, need,...|[dont, need, alph...|(262144,[42873,67...|(262144,[42873,67...|\n",
      "|      mitrut0123|          null|                 The most demandin...|               false|    true|               0|    false|    2|              Roms|      0|   1|        0|    0|the most demandin...|[the, most, deman...|[demanding, conso...|(262144,[25147,37...|(262144,[25147,37...|\n",
      "|        antiname|          null|                 Yaz is definitely...|               false|    true|               0|    false|    2|         doctorwho|      1|   0|        0|    0|yaz is definitely...|[yaz, is, definit...|[yaz, definitely,...|(262144,[21028,29...|(262144,[21028,29...|\n",
      "|      roryaduffy|          null|                 Hats off to them!...|               false|    true|               0|    false|    3|           ireland|      1|   0|        0|    0|hats off to them ...|[hats, off, to, t...|[hats, delighted,...|(262144,[66535,66...|(262144,[66535,66...|\n",
      "|        DayKbfGo|          null|「気付いたらもう」以降を本文（オチ...|               false|    true|               0|    false|    1|     lowlevelaware|      1|   0|        0|    0|                    |                  []|                  []|(262144,[249180],...|(262144,[249180],...|\n",
      "|      cuddlebruh|          null|                 Love facial hair ...|               false|    true|               0|    false|    1|        askgaybros|      0|   1|        0|    0|love facial hair ...|[love, facial, ha...|[love, facial, ha...|(262144,[87273,10...|(262144,[87273,10...|\n",
      "|Tinkerbell-Poney|          null|                 If it was combat ...|               false|    true|               0|    false|    1|          Market76|      1|   0|        0|    0|if it was combat ...|[if, it, was, com...|[combat, rifle, y...|(262144,[26349,82...|(262144,[26349,82...|\n",
      "|       HeraBeara|          null|                 I doubt it as 10 ...|               false|    true|               0|    false|    1|  datingoverthirty|      1|   0|        0|    0|i doubt it as    ...|[i, doubt, it, as...|[doubt, , , , yea...|(262144,[5232,826...|(262144,[5232,826...|\n",
      "| Monster_Frisbee|          null|                 I remember hearin...|               false|    true|               0|    false|    1|        FortNiteBR|      0|   1|        0|    0|i remember hearin...|[i, remember, hea...|[remember, hearin...|(262144,[9991,148...|(262144,[9991,148...|\n",
      "|   RuediTabooty7|          null|                 When you follow t...|               false|    true|               0|    false|    0|        Brawlstars|      0|   1|        0|    0|when you follow t...|[when, you, follo...|[follow, rushing,...|(262144,[78329,10...|(262144,[78329,10...|\n",
      "|Thequeenhaspoken|          null|                 Now let's change ...|               false|    true|               0|    false|    1|  unpopularopinion|      0|   1|        0|    0|now lets change a...|[now, lets, chang...|[lets, change, cr...|(262144,[9521,218...|(262144,[9521,218...|\n",
      "|       hybbprqag|          null|                 If rolling, swadd...|               false|    true|               0|    false|    2|     beyondthebump|      0|   1|        0|    0|if rolling swaddl...|[if, rolling, swa...|[rolling, swaddle...|(262144,[11018,45...|(262144,[11018,45...|\n",
      "|        the_eric|          null|                       Thanks so much|               false|    true|               0|    false|    1|         Coachella|      1|   0|        0|    0|      thanks so much|  [thanks, so, much]|      [thanks, much]|(262144,[76764,22...|(262144,[76764,22...|\n",
      "|       Trent1373|          null|                 Watch out everyon...|               false|    true|               0|    false|   23|    PublicFreakout|      0|   1|        0|    0|watch out everyon...|[watch, out, ever...|[watch, everyone,...|(262144,[37101,20...|(262144,[37101,20...|\n",
      "+----------------+--------------+-------------------------------------+--------------------+--------+----------------+---------+-----+------------------+-------+----+---------+-----+--------------------+--------------------+--------------------+--------------------+--------------------+\n",
      "only showing top 20 rows\n",
      "\n"
     ]
    }
   ],
   "source": [
    "feature_data.show()"
   ]
  },
  {
   "cell_type": "code",
   "execution_count": null,
   "metadata": {},
   "outputs": [],
   "source": [
    "#writing to data for modeling\n",
    "feature_data.write.parquet(\"s3://ppol567lab2/data_text.parquet\", mode = 'overwrite')"
   ]
  },
  {
   "cell_type": "code",
   "execution_count": null,
   "metadata": {},
   "outputs": [],
   "source": []
  },
  {
   "cell_type": "code",
   "execution_count": null,
   "metadata": {},
   "outputs": [],
   "source": []
  }
 ],
 "metadata": {
  "kernelspec": {
   "display_name": "Python 3",
   "language": "python",
   "name": "python3"
  },
  "language_info": {
   "codemirror_mode": {
    "name": "ipython",
    "version": 3
   },
   "file_extension": ".py",
   "mimetype": "text/x-python",
   "name": "python",
   "nbconvert_exporter": "python",
   "pygments_lexer": "ipython3",
   "version": "3.8.3"
  }
 },
 "nbformat": 4,
 "nbformat_minor": 4
}
