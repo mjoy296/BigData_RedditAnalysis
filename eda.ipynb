{
 "cells": [
  {
   "cell_type": "code",
   "execution_count": 13,
   "metadata": {},
   "outputs": [],
   "source": [
    "import findspark\n",
    "findspark.init()"
   ]
  },
  {
   "cell_type": "code",
   "execution_count": 2,
   "metadata": {},
   "outputs": [
    {
     "data": {
      "text/html": [
       "\n",
       "        <div>\n",
       "            <p><b>SparkContext</b></p>\n",
       "\n",
       "            <p><a href=\"http://ip-172-31-70-142.ec2.internal:4041\">Spark UI</a></p>\n",
       "\n",
       "            <dl>\n",
       "              <dt>Version</dt>\n",
       "                <dd><code>v2.4.4</code></dd>\n",
       "              <dt>Master</dt>\n",
       "                <dd><code>yarn</code></dd>\n",
       "              <dt>AppName</dt>\n",
       "                <dd><code>pyspark-shell</code></dd>\n",
       "            </dl>\n",
       "        </div>\n",
       "        "
      ],
      "text/plain": [
       "<SparkContext master=yarn appName=pyspark-shell>"
      ]
     },
     "execution_count": 2,
     "metadata": {},
     "output_type": "execute_result"
    }
   ],
   "source": [
    "from pyspark import SparkContext\n",
    "sc = SparkContext()\n",
    "sc"
   ]
  },
  {
   "cell_type": "code",
   "execution_count": 3,
   "metadata": {},
   "outputs": [],
   "source": [
    "from pyspark.sql import SparkSession\n",
    "\n",
    "spark = SparkSession.builder.appName(\"final_eda\").getOrCreate()"
   ]
  },
  {
   "cell_type": "code",
   "execution_count": 4,
   "metadata": {},
   "outputs": [],
   "source": [
    "data = spark.read.parquet(\"s3://ppol567lab2/datasample.parquet\")"
   ]
  },
  {
   "cell_type": "code",
   "execution_count": 5,
   "metadata": {},
   "outputs": [],
   "source": [
    "#getting sample for eda \n",
    "sample = data.sample(False, .022, seed = 123)"
   ]
  },
  {
   "cell_type": "code",
   "execution_count": 6,
   "metadata": {},
   "outputs": [
    {
     "data": {
      "text/plain": [
       "961548"
      ]
     },
     "execution_count": 6,
     "metadata": {},
     "output_type": "execute_result"
    }
   ],
   "source": [
    "sample.count()"
   ]
  },
  {
   "cell_type": "code",
   "execution_count": 7,
   "metadata": {},
   "outputs": [
    {
     "name": "stderr",
     "output_type": "stream",
     "text": [
      "/usr/lib/spark/python/pyspark/sql/dataframe.py:2103: UserWarning: toPandas attempted Arrow optimization because 'spark.sql.execution.arrow.enabled' is set to true; however, failed by the reason below:\n",
      "  PyArrow >= 0.8.0 must be installed; however, it was not found.\n",
      "Attempting non-optimization as 'spark.sql.execution.arrow.fallback.enabled' is set to true.\n",
      "  warnings.warn(msg)\n"
     ]
    }
   ],
   "source": [
    "#converting to pandas df\n",
    "sample = sample.toPandas()"
   ]
  },
  {
   "cell_type": "code",
   "execution_count": 8,
   "metadata": {},
   "outputs": [
    {
     "data": {
      "text/html": [
       "<div>\n",
       "<style scoped>\n",
       "    .dataframe tbody tr th:only-of-type {\n",
       "        vertical-align: middle;\n",
       "    }\n",
       "\n",
       "    .dataframe tbody tr th {\n",
       "        vertical-align: top;\n",
       "    }\n",
       "\n",
       "    .dataframe thead th {\n",
       "        text-align: right;\n",
       "    }\n",
       "</style>\n",
       "<table border=\"1\" class=\"dataframe\">\n",
       "  <thead>\n",
       "    <tr style=\"text-align: right;\">\n",
       "      <th></th>\n",
       "      <th>author</th>\n",
       "      <th>author_cakeday</th>\n",
       "      <th>body</th>\n",
       "      <th>author_patreon_flair</th>\n",
       "      <th>can_gild</th>\n",
       "      <th>controversiality</th>\n",
       "      <th>collapsed</th>\n",
       "      <th>score</th>\n",
       "      <th>subreddit</th>\n",
       "      <th>comment</th>\n",
       "      <th>post</th>\n",
       "      <th>moderator</th>\n",
       "      <th>admin</th>\n",
       "    </tr>\n",
       "  </thead>\n",
       "  <tbody>\n",
       "    <tr>\n",
       "      <th>0</th>\n",
       "      <td>nocturtleatnight</td>\n",
       "      <td>None</td>\n",
       "      <td>Idk guys he was only 2-3ft out of bounds. Pret...</td>\n",
       "      <td>False</td>\n",
       "      <td>True</td>\n",
       "      <td>0</td>\n",
       "      <td>False</td>\n",
       "      <td>2</td>\n",
       "      <td>nba</td>\n",
       "      <td>0</td>\n",
       "      <td>1</td>\n",
       "      <td>0</td>\n",
       "      <td>0</td>\n",
       "    </tr>\n",
       "    <tr>\n",
       "      <th>1</th>\n",
       "      <td>Apo5tropi</td>\n",
       "      <td>None</td>\n",
       "      <td>Lol</td>\n",
       "      <td>False</td>\n",
       "      <td>True</td>\n",
       "      <td>0</td>\n",
       "      <td>False</td>\n",
       "      <td>4</td>\n",
       "      <td>MotoX4</td>\n",
       "      <td>1</td>\n",
       "      <td>0</td>\n",
       "      <td>0</td>\n",
       "      <td>0</td>\n",
       "    </tr>\n",
       "    <tr>\n",
       "      <th>2</th>\n",
       "      <td>MarvelKenneth</td>\n",
       "      <td>None</td>\n",
       "      <td>This. LBP pulled it off effectively, so Mario ...</td>\n",
       "      <td>False</td>\n",
       "      <td>True</td>\n",
       "      <td>0</td>\n",
       "      <td>False</td>\n",
       "      <td>3</td>\n",
       "      <td>NintendoSwitch</td>\n",
       "      <td>1</td>\n",
       "      <td>0</td>\n",
       "      <td>0</td>\n",
       "      <td>0</td>\n",
       "    </tr>\n",
       "    <tr>\n",
       "      <th>3</th>\n",
       "      <td>Quaig</td>\n",
       "      <td>None</td>\n",
       "      <td>L09</td>\n",
       "      <td>False</td>\n",
       "      <td>True</td>\n",
       "      <td>0</td>\n",
       "      <td>False</td>\n",
       "      <td>2</td>\n",
       "      <td>Huawei</td>\n",
       "      <td>1</td>\n",
       "      <td>0</td>\n",
       "      <td>0</td>\n",
       "      <td>0</td>\n",
       "    </tr>\n",
       "    <tr>\n",
       "      <th>4</th>\n",
       "      <td>magpiec</td>\n",
       "      <td>None</td>\n",
       "      <td>And they add to the view when lit up at night</td>\n",
       "      <td>False</td>\n",
       "      <td>True</td>\n",
       "      <td>0</td>\n",
       "      <td>False</td>\n",
       "      <td>2</td>\n",
       "      <td>ViewPorn</td>\n",
       "      <td>1</td>\n",
       "      <td>0</td>\n",
       "      <td>0</td>\n",
       "      <td>0</td>\n",
       "    </tr>\n",
       "  </tbody>\n",
       "</table>\n",
       "</div>"
      ],
      "text/plain": [
       "             author author_cakeday  \\\n",
       "0  nocturtleatnight           None   \n",
       "1         Apo5tropi           None   \n",
       "2     MarvelKenneth           None   \n",
       "3             Quaig           None   \n",
       "4           magpiec           None   \n",
       "\n",
       "                                                body author_patreon_flair  \\\n",
       "0  Idk guys he was only 2-3ft out of bounds. Pret...                False   \n",
       "1                                                Lol                False   \n",
       "2  This. LBP pulled it off effectively, so Mario ...                False   \n",
       "3                                                L09                False   \n",
       "4      And they add to the view when lit up at night                False   \n",
       "\n",
       "   can_gild  controversiality  collapsed  score       subreddit  comment  \\\n",
       "0      True                 0      False      2             nba        0   \n",
       "1      True                 0      False      4          MotoX4        1   \n",
       "2      True                 0      False      3  NintendoSwitch        1   \n",
       "3      True                 0      False      2          Huawei        1   \n",
       "4      True                 0      False      2        ViewPorn        1   \n",
       "\n",
       "   post  moderator  admin  \n",
       "0     1          0      0  \n",
       "1     0          0      0  \n",
       "2     0          0      0  \n",
       "3     0          0      0  \n",
       "4     0          0      0  "
      ]
     },
     "execution_count": 8,
     "metadata": {},
     "output_type": "execute_result"
    }
   ],
   "source": [
    "sample.head()"
   ]
  },
  {
   "cell_type": "code",
   "execution_count": 12,
   "metadata": {},
   "outputs": [],
   "source": [
    "import matplotlib.pyplot as plt"
   ]
  },
  {
   "cell_type": "code",
   "execution_count": 17,
   "metadata": {},
   "outputs": [],
   "source": [
    "#looking at subreddits with highest activity\n",
    "top_subreds = sample.groupby('subreddit')['subreddit'].count()\\\n",
    "      .reset_index(name = 'count')"
   ]
  },
  {
   "cell_type": "code",
   "execution_count": 29,
   "metadata": {},
   "outputs": [
    {
     "data": {
      "text/html": [
       "<div>\n",
       "<style scoped>\n",
       "    .dataframe tbody tr th:only-of-type {\n",
       "        vertical-align: middle;\n",
       "    }\n",
       "\n",
       "    .dataframe tbody tr th {\n",
       "        vertical-align: top;\n",
       "    }\n",
       "\n",
       "    .dataframe thead th {\n",
       "        text-align: right;\n",
       "    }\n",
       "</style>\n",
       "<table border=\"1\" class=\"dataframe\">\n",
       "  <thead>\n",
       "    <tr style=\"text-align: right;\">\n",
       "      <th></th>\n",
       "      <th>subreddit</th>\n",
       "      <th>count</th>\n",
       "      <th>total</th>\n",
       "      <th>percent</th>\n",
       "    </tr>\n",
       "  </thead>\n",
       "  <tbody>\n",
       "    <tr>\n",
       "      <th>1076</th>\n",
       "      <td>AskReddit</td>\n",
       "      <td>50964</td>\n",
       "      <td>961548</td>\n",
       "      <td>5.30</td>\n",
       "    </tr>\n",
       "    <tr>\n",
       "      <th>21864</th>\n",
       "      <td>politics</td>\n",
       "      <td>17155</td>\n",
       "      <td>961548</td>\n",
       "      <td>1.78</td>\n",
       "    </tr>\n",
       "    <tr>\n",
       "      <th>21017</th>\n",
       "      <td>nfl</td>\n",
       "      <td>11768</td>\n",
       "      <td>961548</td>\n",
       "      <td>1.22</td>\n",
       "    </tr>\n",
       "    <tr>\n",
       "      <th>18110</th>\n",
       "      <td>funny</td>\n",
       "      <td>8588</td>\n",
       "      <td>961548</td>\n",
       "      <td>0.89</td>\n",
       "    </tr>\n",
       "    <tr>\n",
       "      <th>20905</th>\n",
       "      <td>nba</td>\n",
       "      <td>8482</td>\n",
       "      <td>961548</td>\n",
       "      <td>0.88</td>\n",
       "    </tr>\n",
       "  </tbody>\n",
       "</table>\n",
       "</div>"
      ],
      "text/plain": [
       "       subreddit  count   total  percent\n",
       "1076   AskReddit  50964  961548     5.30\n",
       "21864   politics  17155  961548     1.78\n",
       "21017        nfl  11768  961548     1.22\n",
       "18110      funny   8588  961548     0.89\n",
       "20905        nba   8482  961548     0.88"
      ]
     },
     "execution_count": 29,
     "metadata": {},
     "output_type": "execute_result"
    }
   ],
   "source": [
    "#getting subredcits w/ highest percentage\n",
    "top_subreds['total'] = len(sample)\n",
    "top_subreds['percent'] = round((top_subreds['count']/top_subreds['total']) * 100, 2)\n",
    "top_subreds.head()"
   ]
  },
  {
   "cell_type": "code",
   "execution_count": 31,
   "metadata": {},
   "outputs": [
    {
     "data": {
      "image/png": "[encoded data removed]",
      "text/plain": [
       "<Figure size 432x288 with 1 Axes>"
      ]
     },
     "metadata": {
      "needs_background": "light"
     },
     "output_type": "display_data"
    }
   ],
   "source": [
    "#barplot of top subreddits\n",
    "plt.barh(top_subreds['subreddit'] ,top_subreds['percent'])\n",
    "plt.title('Top Subreddits')\n",
    "plt.ylabel('Subreddits')\n",
    "plt.xlabel('Percentage')\n",
    "plt.show()"
   ]
  },
  {
   "cell_type": "code",
   "execution_count": 109,
   "metadata": {},
   "outputs": [
    {
     "data": {
      "text/html": [
       "<div>\n",
       "<style scoped>\n",
       "    .dataframe tbody tr th:only-of-type {\n",
       "        vertical-align: middle;\n",
       "    }\n",
       "\n",
       "    .dataframe tbody tr th {\n",
       "        vertical-align: top;\n",
       "    }\n",
       "\n",
       "    .dataframe thead th {\n",
       "        text-align: right;\n",
       "    }\n",
       "</style>\n",
       "<table border=\"1\" class=\"dataframe\">\n",
       "  <thead>\n",
       "    <tr style=\"text-align: right;\">\n",
       "      <th></th>\n",
       "      <th>can_gild</th>\n",
       "      <th>controversiality</th>\n",
       "      <th>collapsed</th>\n",
       "      <th>score</th>\n",
       "      <th>comment</th>\n",
       "      <th>post</th>\n",
       "      <th>moderator</th>\n",
       "      <th>admin</th>\n",
       "    </tr>\n",
       "  </thead>\n",
       "  <tbody>\n",
       "    <tr>\n",
       "      <th>0</th>\n",
       "      <td>True</td>\n",
       "      <td>0</td>\n",
       "      <td>False</td>\n",
       "      <td>2</td>\n",
       "      <td>0</td>\n",
       "      <td>1</td>\n",
       "      <td>0</td>\n",
       "      <td>0</td>\n",
       "    </tr>\n",
       "    <tr>\n",
       "      <th>1</th>\n",
       "      <td>True</td>\n",
       "      <td>0</td>\n",
       "      <td>False</td>\n",
       "      <td>4</td>\n",
       "      <td>1</td>\n",
       "      <td>0</td>\n",
       "      <td>0</td>\n",
       "      <td>0</td>\n",
       "    </tr>\n",
       "    <tr>\n",
       "      <th>2</th>\n",
       "      <td>True</td>\n",
       "      <td>0</td>\n",
       "      <td>False</td>\n",
       "      <td>3</td>\n",
       "      <td>1</td>\n",
       "      <td>0</td>\n",
       "      <td>0</td>\n",
       "      <td>0</td>\n",
       "    </tr>\n",
       "    <tr>\n",
       "      <th>3</th>\n",
       "      <td>True</td>\n",
       "      <td>0</td>\n",
       "      <td>False</td>\n",
       "      <td>2</td>\n",
       "      <td>1</td>\n",
       "      <td>0</td>\n",
       "      <td>0</td>\n",
       "      <td>0</td>\n",
       "    </tr>\n",
       "    <tr>\n",
       "      <th>4</th>\n",
       "      <td>True</td>\n",
       "      <td>0</td>\n",
       "      <td>False</td>\n",
       "      <td>2</td>\n",
       "      <td>1</td>\n",
       "      <td>0</td>\n",
       "      <td>0</td>\n",
       "      <td>0</td>\n",
       "    </tr>\n",
       "  </tbody>\n",
       "</table>\n",
       "</div>"
      ],
      "text/plain": [
       "   can_gild  controversiality  collapsed  score  comment  post  moderator  \\\n",
       "0      True                 0      False      2        0     1          0   \n",
       "1      True                 0      False      4        1     0          0   \n",
       "2      True                 0      False      3        1     0          0   \n",
       "3      True                 0      False      2        1     0          0   \n",
       "4      True                 0      False      2        1     0          0   \n",
       "\n",
       "   admin  \n",
       "0      0  \n",
       "1      0  \n",
       "2      0  \n",
       "3      0  \n",
       "4      0  "
      ]
     },
     "execution_count": 109,
     "metadata": {},
     "output_type": "execute_result"
    }
   ],
   "source": [
    "#getting numeric columns for correlation plot\n",
    "non_objects = sample.select_dtypes(exclude=['object'])\n",
    "non_objects.head()"
   ]
  },
  {
   "cell_type": "code",
   "execution_count": 95,
   "metadata": {},
   "outputs": [
    {
     "data": {
      "text/html": [
       "<style  type=\"text/css\" >\n",
       "#T_d0773_row0_col0,#T_d0773_row1_col1,#T_d0773_row2_col2,#T_d0773_row3_col3,#T_d0773_row4_col4,#T_d0773_row5_col5,#T_d0773_row6_col6,#T_d0773_row7_col7,#T_d0773_row8_col8{\n",
       "            background-color:  #b40426;\n",
       "            color:  #f1f1f1;\n",
       "        }#T_d0773_row0_col1,#T_d0773_row6_col0,#T_d0773_row8_col0{\n",
       "            background-color:  #4055c8;\n",
       "            color:  #f1f1f1;\n",
       "        }#T_d0773_row0_col2,#T_d0773_row1_col3,#T_d0773_row6_col3{\n",
       "            background-color:  #3f53c6;\n",
       "            color:  #f1f1f1;\n",
       "        }#T_d0773_row0_col3,#T_d0773_row8_col1{\n",
       "            background-color:  #4358cb;\n",
       "            color:  #f1f1f1;\n",
       "        }#T_d0773_row0_col4,#T_d0773_row7_col4{\n",
       "            background-color:  #dddcdc;\n",
       "            color:  #000000;\n",
       "        }#T_d0773_row0_col5,#T_d0773_row7_col5{\n",
       "            background-color:  #dcdddd;\n",
       "            color:  #000000;\n",
       "        }#T_d0773_row0_col6{\n",
       "            background-color:  #6180e9;\n",
       "            color:  #000000;\n",
       "        }#T_d0773_row0_col7,#T_d0773_row1_col7,#T_d0773_row2_col0,#T_d0773_row2_col3,#T_d0773_row2_col7,#T_d0773_row3_col7,#T_d0773_row4_col5,#T_d0773_row4_col6,#T_d0773_row4_col8,#T_d0773_row5_col1,#T_d0773_row5_col4,#T_d0773_row5_col7,#T_d0773_row6_col7,#T_d0773_row8_col2,#T_d0773_row8_col3{\n",
       "            background-color:  #3b4cc0;\n",
       "            color:  #f1f1f1;\n",
       "        }#T_d0773_row0_col8{\n",
       "            background-color:  #7a9df8;\n",
       "            color:  #000000;\n",
       "        }#T_d0773_row1_col0,#T_d0773_row3_col2,#T_d0773_row4_col7,#T_d0773_row5_col0,#T_d0773_row5_col2{\n",
       "            background-color:  #3c4ec2;\n",
       "            color:  #f1f1f1;\n",
       "        }#T_d0773_row1_col2,#T_d0773_row2_col1{\n",
       "            background-color:  #5572df;\n",
       "            color:  #000000;\n",
       "        }#T_d0773_row1_col4{\n",
       "            background-color:  #e0dbd8;\n",
       "            color:  #000000;\n",
       "        }#T_d0773_row1_col5{\n",
       "            background-color:  #d9dce1;\n",
       "            color:  #000000;\n",
       "        }#T_d0773_row1_col6,#T_d0773_row2_col6{\n",
       "            background-color:  #5875e1;\n",
       "            color:  #000000;\n",
       "        }#T_d0773_row1_col8{\n",
       "            background-color:  #779af7;\n",
       "            color:  #000000;\n",
       "        }#T_d0773_row2_col4{\n",
       "            background-color:  #dfdbd9;\n",
       "            color:  #000000;\n",
       "        }#T_d0773_row2_col5{\n",
       "            background-color:  #dadce0;\n",
       "            color:  #000000;\n",
       "        }#T_d0773_row2_col8,#T_d0773_row3_col8{\n",
       "            background-color:  #6e90f2;\n",
       "            color:  #000000;\n",
       "        }#T_d0773_row3_col0,#T_d0773_row4_col0,#T_d0773_row6_col1,#T_d0773_row7_col0{\n",
       "            background-color:  #3d50c3;\n",
       "            color:  #f1f1f1;\n",
       "        }#T_d0773_row3_col1,#T_d0773_row4_col3,#T_d0773_row6_col2{\n",
       "            background-color:  #3e51c5;\n",
       "            color:  #f1f1f1;\n",
       "        }#T_d0773_row3_col4{\n",
       "            background-color:  #dbdcde;\n",
       "            color:  #000000;\n",
       "        }#T_d0773_row3_col5{\n",
       "            background-color:  #dedcdb;\n",
       "            color:  #000000;\n",
       "        }#T_d0773_row3_col6{\n",
       "            background-color:  #5a78e4;\n",
       "            color:  #000000;\n",
       "        }#T_d0773_row4_col1{\n",
       "            background-color:  #4a63d3;\n",
       "            color:  #f1f1f1;\n",
       "        }#T_d0773_row4_col2{\n",
       "            background-color:  #4961d2;\n",
       "            color:  #f1f1f1;\n",
       "        }#T_d0773_row5_col3{\n",
       "            background-color:  #455cce;\n",
       "            color:  #f1f1f1;\n",
       "        }#T_d0773_row5_col6{\n",
       "            background-color:  #82a6fb;\n",
       "            color:  #000000;\n",
       "        }#T_d0773_row5_col8{\n",
       "            background-color:  #b7cff9;\n",
       "            color:  #000000;\n",
       "        }#T_d0773_row6_col4{\n",
       "            background-color:  #ccd9ed;\n",
       "            color:  #000000;\n",
       "        }#T_d0773_row6_col5{\n",
       "            background-color:  #ebd3c6;\n",
       "            color:  #000000;\n",
       "        }#T_d0773_row6_col8{\n",
       "            background-color:  #d55042;\n",
       "            color:  #000000;\n",
       "        }#T_d0773_row7_col1,#T_d0773_row7_col2,#T_d0773_row7_col3{\n",
       "            background-color:  #4257c9;\n",
       "            color:  #f1f1f1;\n",
       "        }#T_d0773_row7_col6{\n",
       "            background-color:  #5d7ce6;\n",
       "            color:  #000000;\n",
       "        }#T_d0773_row7_col8,#T_d0773_row8_col7{\n",
       "            background-color:  #000000;\n",
       "            color:  #f1f1f1;\n",
       "        }#T_d0773_row8_col4{\n",
       "            background-color:  #bbd1f8;\n",
       "            color:  #000000;\n",
       "        }#T_d0773_row8_col5{\n",
       "            background-color:  #f3c7b1;\n",
       "            color:  #000000;\n",
       "        }#T_d0773_row8_col6{\n",
       "            background-color:  #d75445;\n",
       "            color:  #000000;\n",
       "        }</style><table id=\"T_d0773_\" ><thead>    <tr>        <th class=\"blank level0\" ></th>        <th class=\"col_heading level0 col0\" >can_gild</th>        <th class=\"col_heading level0 col1\" >controversiality</th>        <th class=\"col_heading level0 col2\" >collapsed</th>        <th class=\"col_heading level0 col3\" >score</th>        <th class=\"col_heading level0 col4\" >comment</th>        <th class=\"col_heading level0 col5\" >post</th>        <th class=\"col_heading level0 col6\" >moderator</th>        <th class=\"col_heading level0 col7\" >admin</th>        <th class=\"col_heading level0 col8\" >author_age</th>    </tr></thead><tbody>\n",
       "                <tr>\n",
       "                        <th id=\"T_d0773_level0_row0\" class=\"row_heading level0 row0\" >can_gild</th>\n",
       "                        <td id=\"T_d0773_row0_col0\" class=\"data row0 col0\" >1.000000</td>\n",
       "                        <td id=\"T_d0773_row0_col1\" class=\"data row0 col1\" >-0.003976</td>\n",
       "                        <td id=\"T_d0773_row0_col2\" class=\"data row0 col2\" >-0.008047</td>\n",
       "                        <td id=\"T_d0773_row0_col3\" class=\"data row0 col3\" >0.001862</td>\n",
       "                        <td id=\"T_d0773_row0_col4\" class=\"data row0 col4\" >0.001854</td>\n",
       "                        <td id=\"T_d0773_row0_col5\" class=\"data row0 col5\" >-0.001854</td>\n",
       "                        <td id=\"T_d0773_row0_col6\" class=\"data row0 col6\" >0.013555</td>\n",
       "                        <td id=\"T_d0773_row0_col7\" class=\"data row0 col7\" >0.000268</td>\n",
       "                        <td id=\"T_d0773_row0_col8\" class=\"data row0 col8\" >0.013959</td>\n",
       "            </tr>\n",
       "            <tr>\n",
       "                        <th id=\"T_d0773_level0_row1\" class=\"row_heading level0 row1\" >controversiality</th>\n",
       "                        <td id=\"T_d0773_row1_col0\" class=\"data row1 col0\" >-0.003976</td>\n",
       "                        <td id=\"T_d0773_row1_col1\" class=\"data row1 col1\" >1.000000</td>\n",
       "                        <td id=\"T_d0773_row1_col2\" class=\"data row1 col2\" >0.063096</td>\n",
       "                        <td id=\"T_d0773_row1_col3\" class=\"data row1 col3\" >-0.011287</td>\n",
       "                        <td id=\"T_d0773_row1_col4\" class=\"data row1 col4\" >0.027248</td>\n",
       "                        <td id=\"T_d0773_row1_col5\" class=\"data row1 col5\" >-0.027248</td>\n",
       "                        <td id=\"T_d0773_row1_col6\" class=\"data row1 col6\" >-0.015791</td>\n",
       "                        <td id=\"T_d0773_row1_col7\" class=\"data row1 col7\" >-0.000341</td>\n",
       "                        <td id=\"T_d0773_row1_col8\" class=\"data row1 col8\" >0.002656</td>\n",
       "            </tr>\n",
       "            <tr>\n",
       "                        <th id=\"T_d0773_level0_row2\" class=\"row_heading level0 row2\" >collapsed</th>\n",
       "                        <td id=\"T_d0773_row2_col0\" class=\"data row2 col0\" >-0.008047</td>\n",
       "                        <td id=\"T_d0773_row2_col1\" class=\"data row2 col1\" >0.063096</td>\n",
       "                        <td id=\"T_d0773_row2_col2\" class=\"data row2 col2\" >1.000000</td>\n",
       "                        <td id=\"T_d0773_row2_col3\" class=\"data row2 col3\" >-0.023797</td>\n",
       "                        <td id=\"T_d0773_row2_col4\" class=\"data row2 col4\" >0.022895</td>\n",
       "                        <td id=\"T_d0773_row2_col5\" class=\"data row2 col5\" >-0.022895</td>\n",
       "                        <td id=\"T_d0773_row2_col6\" class=\"data row2 col6\" >-0.015871</td>\n",
       "                        <td id=\"T_d0773_row2_col7\" class=\"data row2 col7\" >-0.000274</td>\n",
       "                        <td id=\"T_d0773_row2_col8\" class=\"data row2 col8\" >-0.027958</td>\n",
       "            </tr>\n",
       "            <tr>\n",
       "                        <th id=\"T_d0773_level0_row3\" class=\"row_heading level0 row3\" >score</th>\n",
       "                        <td id=\"T_d0773_row3_col0\" class=\"data row3 col0\" >0.001862</td>\n",
       "                        <td id=\"T_d0773_row3_col1\" class=\"data row3 col1\" >-0.011287</td>\n",
       "                        <td id=\"T_d0773_row3_col2\" class=\"data row3 col2\" >-0.023797</td>\n",
       "                        <td id=\"T_d0773_row3_col3\" class=\"data row3 col3\" >1.000000</td>\n",
       "                        <td id=\"T_d0773_row3_col4\" class=\"data row3 col4\" >-0.011610</td>\n",
       "                        <td id=\"T_d0773_row3_col5\" class=\"data row3 col5\" >0.011610</td>\n",
       "                        <td id=\"T_d0773_row3_col6\" class=\"data row3 col6\" >-0.009108</td>\n",
       "                        <td id=\"T_d0773_row3_col7\" class=\"data row3 col7\" >0.000110</td>\n",
       "                        <td id=\"T_d0773_row3_col8\" class=\"data row3 col8\" >-0.027524</td>\n",
       "            </tr>\n",
       "            <tr>\n",
       "                        <th id=\"T_d0773_level0_row4\" class=\"row_heading level0 row4\" >comment</th>\n",
       "                        <td id=\"T_d0773_row4_col0\" class=\"data row4 col0\" >0.001854</td>\n",
       "                        <td id=\"T_d0773_row4_col1\" class=\"data row4 col1\" >0.027248</td>\n",
       "                        <td id=\"T_d0773_row4_col2\" class=\"data row4 col2\" >0.022895</td>\n",
       "                        <td id=\"T_d0773_row4_col3\" class=\"data row4 col3\" >-0.011610</td>\n",
       "                        <td id=\"T_d0773_row4_col4\" class=\"data row4 col4\" >1.000000</td>\n",
       "                        <td id=\"T_d0773_row4_col5\" class=\"data row4 col5\" >-1.000000</td>\n",
       "                        <td id=\"T_d0773_row4_col6\" class=\"data row4 col6\" >-0.123616</td>\n",
       "                        <td id=\"T_d0773_row4_col7\" class=\"data row4 col7\" >0.001993</td>\n",
       "                        <td id=\"T_d0773_row4_col8\" class=\"data row4 col8\" >-0.228802</td>\n",
       "            </tr>\n",
       "            <tr>\n",
       "                        <th id=\"T_d0773_level0_row5\" class=\"row_heading level0 row5\" >post</th>\n",
       "                        <td id=\"T_d0773_row5_col0\" class=\"data row5 col0\" >-0.001854</td>\n",
       "                        <td id=\"T_d0773_row5_col1\" class=\"data row5 col1\" >-0.027248</td>\n",
       "                        <td id=\"T_d0773_row5_col2\" class=\"data row5 col2\" >-0.022895</td>\n",
       "                        <td id=\"T_d0773_row5_col3\" class=\"data row5 col3\" >0.011610</td>\n",
       "                        <td id=\"T_d0773_row5_col4\" class=\"data row5 col4\" >-1.000000</td>\n",
       "                        <td id=\"T_d0773_row5_col5\" class=\"data row5 col5\" >1.000000</td>\n",
       "                        <td id=\"T_d0773_row5_col6\" class=\"data row5 col6\" >0.123616</td>\n",
       "                        <td id=\"T_d0773_row5_col7\" class=\"data row5 col7\" >-0.001993</td>\n",
       "                        <td id=\"T_d0773_row5_col8\" class=\"data row5 col8\" >0.228802</td>\n",
       "            </tr>\n",
       "            <tr>\n",
       "                        <th id=\"T_d0773_level0_row6\" class=\"row_heading level0 row6\" >moderator</th>\n",
       "                        <td id=\"T_d0773_row6_col0\" class=\"data row6 col0\" >0.013555</td>\n",
       "                        <td id=\"T_d0773_row6_col1\" class=\"data row6 col1\" >-0.015791</td>\n",
       "                        <td id=\"T_d0773_row6_col2\" class=\"data row6 col2\" >-0.015871</td>\n",
       "                        <td id=\"T_d0773_row6_col3\" class=\"data row6 col3\" >-0.009108</td>\n",
       "                        <td id=\"T_d0773_row6_col4\" class=\"data row6 col4\" >-0.123616</td>\n",
       "                        <td id=\"T_d0773_row6_col5\" class=\"data row6 col5\" >0.123616</td>\n",
       "                        <td id=\"T_d0773_row6_col6\" class=\"data row6 col6\" >1.000000</td>\n",
       "                        <td id=\"T_d0773_row6_col7\" class=\"data row6 col7\" >-0.000301</td>\n",
       "                        <td id=\"T_d0773_row6_col8\" class=\"data row6 col8\" >0.883114</td>\n",
       "            </tr>\n",
       "            <tr>\n",
       "                        <th id=\"T_d0773_level0_row7\" class=\"row_heading level0 row7\" >admin</th>\n",
       "                        <td id=\"T_d0773_row7_col0\" class=\"data row7 col0\" >0.000268</td>\n",
       "                        <td id=\"T_d0773_row7_col1\" class=\"data row7 col1\" >-0.000341</td>\n",
       "                        <td id=\"T_d0773_row7_col2\" class=\"data row7 col2\" >-0.000274</td>\n",
       "                        <td id=\"T_d0773_row7_col3\" class=\"data row7 col3\" >0.000110</td>\n",
       "                        <td id=\"T_d0773_row7_col4\" class=\"data row7 col4\" >0.001993</td>\n",
       "                        <td id=\"T_d0773_row7_col5\" class=\"data row7 col5\" >-0.001993</td>\n",
       "                        <td id=\"T_d0773_row7_col6\" class=\"data row7 col6\" >-0.000301</td>\n",
       "                        <td id=\"T_d0773_row7_col7\" class=\"data row7 col7\" >1.000000</td>\n",
       "                        <td id=\"T_d0773_row7_col8\" class=\"data row7 col8\" >nan</td>\n",
       "            </tr>\n",
       "            <tr>\n",
       "                        <th id=\"T_d0773_level0_row8\" class=\"row_heading level0 row8\" >author_age</th>\n",
       "                        <td id=\"T_d0773_row8_col0\" class=\"data row8 col0\" >0.013959</td>\n",
       "                        <td id=\"T_d0773_row8_col1\" class=\"data row8 col1\" >0.002656</td>\n",
       "                        <td id=\"T_d0773_row8_col2\" class=\"data row8 col2\" >-0.027958</td>\n",
       "                        <td id=\"T_d0773_row8_col3\" class=\"data row8 col3\" >-0.027524</td>\n",
       "                        <td id=\"T_d0773_row8_col4\" class=\"data row8 col4\" >-0.228802</td>\n",
       "                        <td id=\"T_d0773_row8_col5\" class=\"data row8 col5\" >0.228802</td>\n",
       "                        <td id=\"T_d0773_row8_col6\" class=\"data row8 col6\" >0.883114</td>\n",
       "                        <td id=\"T_d0773_row8_col7\" class=\"data row8 col7\" >nan</td>\n",
       "                        <td id=\"T_d0773_row8_col8\" class=\"data row8 col8\" >1.000000</td>\n",
       "            </tr>\n",
       "    </tbody></table>"
      ],
      "text/plain": [
       "<pandas.io.formats.style.Styler at 0x7f2f0d950210>"
      ]
     },
     "execution_count": 95,
     "metadata": {},
     "output_type": "execute_result"
    }
   ],
   "source": [
    "#looking at correlation\n",
    "non_objects.corr().style.background_gradient(cmap='coolwarm')"
   ]
  },
  {
   "cell_type": "code",
   "execution_count": 45,
   "metadata": {},
   "outputs": [
    {
     "data": {
      "text/html": [
       "<div>\n",
       "<style scoped>\n",
       "    .dataframe tbody tr th:only-of-type {\n",
       "        vertical-align: middle;\n",
       "    }\n",
       "\n",
       "    .dataframe tbody tr th {\n",
       "        vertical-align: top;\n",
       "    }\n",
       "\n",
       "    .dataframe thead th {\n",
       "        text-align: right;\n",
       "    }\n",
       "</style>\n",
       "<table border=\"1\" class=\"dataframe\">\n",
       "  <thead>\n",
       "    <tr style=\"text-align: right;\">\n",
       "      <th></th>\n",
       "      <th>controversiality</th>\n",
       "      <th>count</th>\n",
       "    </tr>\n",
       "  </thead>\n",
       "  <tbody>\n",
       "    <tr>\n",
       "      <th>0</th>\n",
       "      <td>0</td>\n",
       "      <td>940537</td>\n",
       "    </tr>\n",
       "    <tr>\n",
       "      <th>1</th>\n",
       "      <td>1</td>\n",
       "      <td>21011</td>\n",
       "    </tr>\n",
       "  </tbody>\n",
       "</table>\n",
       "</div>"
      ],
      "text/plain": [
       "  controversiality   count\n",
       "0                0  940537\n",
       "1                1   21011"
      ]
     },
     "execution_count": 45,
     "metadata": {},
     "output_type": "execute_result"
    }
   ],
   "source": [
    "#count of controversiality type\n",
    "contro  = sample.groupby('controversiality')['controversiality'].count().reset_index(name = 'count')\n",
    "contro.controversiality = contro.controversiality.astype('string')\n",
    "contro.head()"
   ]
  },
  {
   "cell_type": "code",
   "execution_count": 52,
   "metadata": {},
   "outputs": [
    {
     "data": {
      "image/png": "[encoded data removed]",
      "text/plain": [
       "<Figure size 432x288 with 1 Axes>"
      ]
     },
     "metadata": {
      "needs_background": "light"
     },
     "output_type": "display_data"
    }
   ],
   "source": [
    "#plotting\n",
    "plt.bar(x = contro.controversiality, height = contro['count'])\n",
    "plt.title(\"Controversiality Frequency\")\n",
    "plt.xlabel(\"Controversiality Score\")\n",
    "plt.ylabel(\"Count\")\n",
    "plt.show()"
   ]
  },
  {
   "cell_type": "code",
   "execution_count": 63,
   "metadata": {},
   "outputs": [
    {
     "data": {
      "image/png": "[encoded data removed]",
      "text/plain": [
       "<Figure size 432x288 with 1 Axes>"
      ]
     },
     "metadata": {
      "needs_background": "light"
     },
     "output_type": "display_data"
    }
   ],
   "source": [
    "#looking at distribution of score per controversiality type\n",
    "sample.boxplot(column = ['score'], by= ['controversiality'])\n",
    "plt.xlabel(\"Controversiality\")\n",
    "plt.ylabel(\"Score\")\n",
    "plt.title(\"Score Boxplot by Controversiality\")\n",
    "plt.suptitle('') \n",
    "plt.show()"
   ]
  },
  {
   "cell_type": "code",
   "execution_count": 72,
   "metadata": {},
   "outputs": [
    {
     "data": {
      "text/plain": [
       "<AxesSubplot:ylabel='Density'>"
      ]
     },
     "execution_count": 72,
     "metadata": {},
     "output_type": "execute_result"
    },
    {
     "data": {
      "image/png": "[encoded data removed]",
      "text/plain": [
       "<Figure size 432x288 with 1 Axes>"
      ]
     },
     "metadata": {
      "needs_background": "light"
     },
     "output_type": "display_data"
    }
   ],
   "source": [
    "#looking at distribution of scores\n",
    "sample.score.plot(kind='density')"
   ]
  },
  {
   "cell_type": "code",
   "execution_count": 71,
   "metadata": {},
   "outputs": [
    {
     "data": {
      "text/plain": [
       "(array([9.61183e+05, 2.54000e+02, 6.40000e+01, 2.10000e+01, 9.00000e+00,\n",
       "        8.00000e+00, 4.00000e+00, 4.00000e+00, 0.00000e+00, 1.00000e+00]),\n",
       " array([ -723.,  1960.,  4643.,  7326., 10009., 12692., 15375., 18058.,\n",
       "        20741., 23424., 26107.]),\n",
       " <BarContainer object of 10 artists>)"
      ]
     },
     "execution_count": 71,
     "metadata": {},
     "output_type": "execute_result"
    },
    {
     "data": {
      "image/png": "[encoded data removed]",
      "text/plain": [
       "<Figure size 432x288 with 1 Axes>"
      ]
     },
     "metadata": {
      "needs_background": "light"
     },
     "output_type": "display_data"
    }
   ],
   "source": [
    "plt.hist(sample.score)"
   ]
  },
  {
   "cell_type": "code",
   "execution_count": 68,
   "metadata": {},
   "outputs": [
    {
     "data": {
      "text/plain": [
       "count    961548.000000\n",
       "mean          9.570719\n",
       "std         120.982291\n",
       "min        -723.000000\n",
       "25%           1.000000\n",
       "50%           2.000000\n",
       "75%           4.000000\n",
       "max       26107.000000\n",
       "Name: score, dtype: float64"
      ]
     },
     "execution_count": 68,
     "metadata": {},
     "output_type": "execute_result"
    }
   ],
   "source": [
    "#looking at summary statistics of score\n",
    "sample.score.describe()"
   ]
  },
  {
   "cell_type": "code",
   "execution_count": 73,
   "metadata": {},
   "outputs": [],
   "source": [
    "#removing outliers\n",
    "filtered = sample[sample.score < 20000]"
   ]
  },
  {
   "cell_type": "code",
   "execution_count": 74,
   "metadata": {},
   "outputs": [
    {
     "data": {
      "image/png": "[encoded data removed]",
      "text/plain": [
       "<Figure size 432x288 with 1 Axes>"
      ]
     },
     "metadata": {
      "needs_background": "light"
     },
     "output_type": "display_data"
    }
   ],
   "source": [
    "#reexaminig score distribution by controversiality type\n",
    "filtered.boxplot(column = ['score'], by= ['controversiality'])\n",
    "plt.xlabel(\"Controversiality\")\n",
    "plt.ylabel(\"Score\")\n",
    "plt.title(\"Score Boxplot by Controversiality\")\n",
    "plt.suptitle('') \n",
    "plt.show()"
   ]
  },
  {
   "cell_type": "code",
   "execution_count": 104,
   "metadata": {},
   "outputs": [
    {
     "data": {
      "image/png": "[encoded data removed]",
      "text/plain": [
       "<Figure size 432x288 with 1 Axes>"
      ]
     },
     "metadata": {
      "needs_background": "light"
     },
     "output_type": "display_data"
    }
   ],
   "source": [
    "#plotting conversiality type depending of it is a comment or post\n",
    "df = sample.groupby(['comment', \"controversiality\"])['comment'].count().reset_index(name = 'val')\n",
    "df.pivot(\"comment\", \"controversiality\", \"val\").plot(kind='bar')\n",
    "plt.title(\"Controversiality by Type(Comment or Not)\")\n",
    "plt.xlabel(\"Comment\")\n",
    "plt.ylabel(\"Count\")\n",
    "plt.show()"
   ]
  },
  {
   "cell_type": "code",
   "execution_count": 16,
   "metadata": {},
   "outputs": [
    {
     "data": {
      "text/html": [
       "<div>\n",
       "<style scoped>\n",
       "    .dataframe tbody tr th:only-of-type {\n",
       "        vertical-align: middle;\n",
       "    }\n",
       "\n",
       "    .dataframe tbody tr th {\n",
       "        vertical-align: top;\n",
       "    }\n",
       "\n",
       "    .dataframe thead th {\n",
       "        text-align: right;\n",
       "    }\n",
       "</style>\n",
       "<table border=\"1\" class=\"dataframe\">\n",
       "  <thead>\n",
       "    <tr style=\"text-align: right;\">\n",
       "      <th></th>\n",
       "      <th>subreddit</th>\n",
       "      <th>max score</th>\n",
       "    </tr>\n",
       "  </thead>\n",
       "  <tbody>\n",
       "    <tr>\n",
       "      <th>1112</th>\n",
       "      <td>AskReddit</td>\n",
       "      <td>26107</td>\n",
       "    </tr>\n",
       "    <tr>\n",
       "      <th>21759</th>\n",
       "      <td>pics</td>\n",
       "      <td>20732</td>\n",
       "    </tr>\n",
       "    <tr>\n",
       "      <th>13492</th>\n",
       "      <td>Unexpected</td>\n",
       "      <td>20559</td>\n",
       "    </tr>\n",
       "    <tr>\n",
       "      <th>18249</th>\n",
       "      <td>gaming</td>\n",
       "      <td>14924</td>\n",
       "    </tr>\n",
       "    <tr>\n",
       "      <th>11521</th>\n",
       "      <td>Showerthoughts</td>\n",
       "      <td>14236</td>\n",
       "    </tr>\n",
       "    <tr>\n",
       "      <th>...</th>\n",
       "      <td>...</td>\n",
       "      <td>...</td>\n",
       "    </tr>\n",
       "    <tr>\n",
       "      <th>24858</th>\n",
       "      <td>u_QuitePetite</td>\n",
       "      <td>-22</td>\n",
       "    </tr>\n",
       "    <tr>\n",
       "      <th>2508</th>\n",
       "      <td>CelebSexScenes</td>\n",
       "      <td>-23</td>\n",
       "    </tr>\n",
       "    <tr>\n",
       "      <th>12761</th>\n",
       "      <td>TheLastLeg</td>\n",
       "      <td>-24</td>\n",
       "    </tr>\n",
       "    <tr>\n",
       "      <th>13661</th>\n",
       "      <td>Vault_Tec_Corporation</td>\n",
       "      <td>-26</td>\n",
       "    </tr>\n",
       "    <tr>\n",
       "      <th>6910</th>\n",
       "      <td>JusticeBoner</td>\n",
       "      <td>-94</td>\n",
       "    </tr>\n",
       "  </tbody>\n",
       "</table>\n",
       "<p>26440 rows × 2 columns</p>\n",
       "</div>"
      ],
      "text/plain": [
       "                   subreddit  max score\n",
       "1112               AskReddit      26107\n",
       "21759                   pics      20732\n",
       "13492             Unexpected      20559\n",
       "18249                 gaming      14924\n",
       "11521         Showerthoughts      14236\n",
       "...                      ...        ...\n",
       "24858          u_QuitePetite        -22\n",
       "2508          CelebSexScenes        -23\n",
       "12761             TheLastLeg        -24\n",
       "13661  Vault_Tec_Corporation        -26\n",
       "6910            JusticeBoner        -94\n",
       "\n",
       "[26440 rows x 2 columns]"
      ]
     },
     "execution_count": 16,
     "metadata": {},
     "output_type": "execute_result"
    }
   ],
   "source": [
    "#subreddits with highest score\n",
    "sample.groupby('subreddit')['score'].max().reset_index(name = 'max score').sort_values('max score', ascending = False)"
   ]
  },
  {
   "cell_type": "code",
   "execution_count": 24,
   "metadata": {},
   "outputs": [],
   "source": [
    "#subreddits with most controversialty\n",
    "sub_controv = sample.groupby(['subreddit', 'controversiality'])['controversiality'].count().reset_index(name = 'count').sort_values('count', ascending = False)"
   ]
  },
  {
   "cell_type": "code",
   "execution_count": 25,
   "metadata": {},
   "outputs": [
    {
     "data": {
      "text/html": [
       "<div>\n",
       "<style scoped>\n",
       "    .dataframe tbody tr th:only-of-type {\n",
       "        vertical-align: middle;\n",
       "    }\n",
       "\n",
       "    .dataframe tbody tr th {\n",
       "        vertical-align: top;\n",
       "    }\n",
       "\n",
       "    .dataframe thead th {\n",
       "        text-align: right;\n",
       "    }\n",
       "</style>\n",
       "<table border=\"1\" class=\"dataframe\">\n",
       "  <thead>\n",
       "    <tr style=\"text-align: right;\">\n",
       "      <th></th>\n",
       "      <th>subreddit</th>\n",
       "      <th>controversiality</th>\n",
       "      <th>count</th>\n",
       "    </tr>\n",
       "  </thead>\n",
       "  <tbody>\n",
       "    <tr>\n",
       "      <th>24303</th>\n",
       "      <td>politics</td>\n",
       "      <td>1</td>\n",
       "      <td>646</td>\n",
       "    </tr>\n",
       "    <tr>\n",
       "      <th>1235</th>\n",
       "      <td>AskReddit</td>\n",
       "      <td>1</td>\n",
       "      <td>573</td>\n",
       "    </tr>\n",
       "    <tr>\n",
       "      <th>29027</th>\n",
       "      <td>worldnews</td>\n",
       "      <td>1</td>\n",
       "      <td>494</td>\n",
       "    </tr>\n",
       "    <tr>\n",
       "      <th>23323</th>\n",
       "      <td>news</td>\n",
       "      <td>1</td>\n",
       "      <td>480</td>\n",
       "    </tr>\n",
       "    <tr>\n",
       "      <th>23219</th>\n",
       "      <td>nba</td>\n",
       "      <td>1</td>\n",
       "      <td>377</td>\n",
       "    </tr>\n",
       "    <tr>\n",
       "      <th>...</th>\n",
       "      <td>...</td>\n",
       "      <td>...</td>\n",
       "      <td>...</td>\n",
       "    </tr>\n",
       "    <tr>\n",
       "      <th>13912</th>\n",
       "      <td>Tgirls</td>\n",
       "      <td>1</td>\n",
       "      <td>1</td>\n",
       "    </tr>\n",
       "    <tr>\n",
       "      <th>13917</th>\n",
       "      <td>ThailandTourism</td>\n",
       "      <td>1</td>\n",
       "      <td>1</td>\n",
       "    </tr>\n",
       "    <tr>\n",
       "      <th>13870</th>\n",
       "      <td>Tennessee</td>\n",
       "      <td>1</td>\n",
       "      <td>1</td>\n",
       "    </tr>\n",
       "    <tr>\n",
       "      <th>13821</th>\n",
       "      <td>TechNewsToday</td>\n",
       "      <td>1</td>\n",
       "      <td>1</td>\n",
       "    </tr>\n",
       "    <tr>\n",
       "      <th>13863</th>\n",
       "      <td>TenX</td>\n",
       "      <td>1</td>\n",
       "      <td>1</td>\n",
       "    </tr>\n",
       "  </tbody>\n",
       "</table>\n",
       "<p>2862 rows × 3 columns</p>\n",
       "</div>"
      ],
      "text/plain": [
       "             subreddit  controversiality  count\n",
       "24303         politics                 1    646\n",
       "1235         AskReddit                 1    573\n",
       "29027        worldnews                 1    494\n",
       "23323             news                 1    480\n",
       "23219              nba                 1    377\n",
       "...                ...               ...    ...\n",
       "13912           Tgirls                 1      1\n",
       "13917  ThailandTourism                 1      1\n",
       "13870        Tennessee                 1      1\n",
       "13821    TechNewsToday                 1      1\n",
       "13863             TenX                 1      1\n",
       "\n",
       "[2862 rows x 3 columns]"
      ]
     },
     "execution_count": 25,
     "metadata": {},
     "output_type": "execute_result"
    }
   ],
   "source": [
    "sub_controv[sub_controv.controversiality == 1]"
   ]
  },
  {
   "cell_type": "code",
   "execution_count": null,
   "metadata": {},
   "outputs": [],
   "source": []
  }
 ],
 "metadata": {
  "kernelspec": {
   "display_name": "Python 3",
   "language": "python",
   "name": "python3"
  },
  "language_info": {
   "codemirror_mode": {
    "name": "ipython",
    "version": 3
   },
   "file_extension": ".py",
   "mimetype": "text/x-python",
   "name": "python",
   "nbconvert_exporter": "python",
   "pygments_lexer": "ipython3",
   "version": "3.8.3"
  }
 },
 "nbformat": 4,
 "nbformat_minor": 4
}
